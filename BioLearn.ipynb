{
 "cells": [
  {
   "cell_type": "markdown",
   "metadata": {},
   "source": [
    "# 生物信息学，生物信息算法\n"
   ]
  },
  {
   "cell_type": "markdown",
   "metadata": {},
   "source": [
    "## Where in the Genome Does Replication Begin (Part 1)"
   ]
  },
  {
   "cell_type": "code",
   "execution_count": 5,
   "metadata": {},
   "outputs": [],
   "source": [
    "def PatternCount(Text, Pattern):\n",
    "    count = 0\n",
    "    for i in range(len(Text)-len(Pattern)+1):\n",
    "        if Text[i:i+len(Pattern)] == Pattern:\n",
    "            count = count+1\n",
    "    return count\n",
    "\n",
    "\n",
    "def FrequencyMap(Text, k):\n",
    "    freq = {}\n",
    "    n = len(Text)\n",
    "    for i in range(n-k+1):\n",
    "        Pattern = Text[i:i+k]\n",
    "        freq[Pattern] = PatternCount(Text, Pattern)\n",
    "    return freq\n",
    "\n",
    "\n",
    "def FrequentWords(Text, k):\n",
    "    words = []\n",
    "    freq = FrequencyMap(Text, k)\n",
    "    m = max(freq.values())\n",
    "    for key in freq:\n",
    "        # add each key to words whose corresponding frequency value is equal to m\n",
    "        if freq[key] == m:\n",
    "            words.append(key)\n",
    "    return words\n",
    "\n",
    "# Input:  A string Pattern\n",
    "# Output: The reverse of Pattern\n",
    "def Reverse1(Pattern):\n",
    "    # your code here\n",
    "    length = len(Pattern)\n",
    "    revPattern = list(range(length))\n",
    "    strs = \"\"\n",
    "    for index, ch in enumerate(Pattern):\n",
    "        print(index, \" \", ch)\n",
    "        revPattern[length-index-1] = ch\n",
    "    for ch in revPattern:\n",
    "        strs += ch\n",
    "    print(\"/n/n\", strs)\n",
    "\n",
    "\n",
    "# Input:  A string Pattern\n",
    "# Output: The reverse of Pattern\n",
    "def Reverse(Pattern):\n",
    "    # your code here\n",
    "    length = len(Pattern)\n",
    "    strs = \"\"\n",
    "    for index in range(length):\n",
    "        strs += Pattern[length-index-1]\n",
    "    return strs\n",
    "\n",
    "\n",
    "# Input:  A DNA string Pattern\n",
    "# Output: The complementary string of Pattern (with every nucleotide replaced by its complement).\n",
    "def Complement(Pattern):\n",
    "    # your code here\n",
    "    r = {\"A\": \"T\",\n",
    "         \"T\": \"A\",\n",
    "         \"C\": \"G\",\n",
    "         \"G\": \"C\"}\n",
    "    ComPattern = \"\"\n",
    "    for ch in Pattern:\n",
    "        ComPattern += r[ch]\n",
    "    return ComPattern\n",
    "\n",
    "def ReverseComplement(Pattern):   \n",
    "    # your code here\n",
    "    return Complement(Reverse(Pattern))\n",
    "\n",
    "\n",
    "\n",
    "\n",
    "# fill in your PatternMatching() function along with any subroutines that you need.\n",
    "def PatternMatching(Pattern, Genome):\n",
    "    positions = [] # output variable\n",
    "    # your code here\n",
    "    lenPattern = len(Pattern)\n",
    "    lenGenome = len(Genome)\n",
    "    for i in range(lenGenome-lenPattern+1):\n",
    "        if Pattern == Genome[i:i+lenPattern]:\n",
    "            positions.append(i)\n",
    "    return positions"
   ]
  },
  {
   "cell_type": "markdown",
   "metadata": {},
   "source": [
    "## Where in the Genome Does Replication Begin? (Part 2)"
   ]
  },
  {
   "cell_type": "code",
   "execution_count": 4,
   "metadata": {},
   "outputs": [],
   "source": [
    "def SymbolArray(Genome, symbol):\n",
    "    array = {}\n",
    "    n = len(Genome)\n",
    "    ExtendedGenome = Genome + Genome[0:n//2]\n",
    "    for i in range(n):\n",
    "        array[i] = PatternCount(ExtendedGenome[i:i+(n//2)],symbol)\n",
    "    return array\n"
   ]
  },
  {
   "cell_type": "markdown",
   "metadata": {},
   "source": [
    "### 1.3 Peculiar Statistics of the Forward and Reverse Half-Strands\n",
    "STOP and Think: Try running SymbolArray on your own computer with Genome equal to the E. coli genome and symbol equal to \"C\". What happens? Why?"
   ]
  },
  {
   "cell_type": "code",
   "execution_count": 6,
   "metadata": {},
   "outputs": [
    {
     "ename": "KeyboardInterrupt",
     "evalue": "",
     "output_type": "error",
     "traceback": [
      "\u001b[0;31m---------------------------------------------------------------------------\u001b[0m",
      "\u001b[0;31mKeyboardInterrupt\u001b[0m                         Traceback (most recent call last)",
      "Cell \u001b[0;32mIn [6], line 3\u001b[0m\n\u001b[1;32m      1\u001b[0m \u001b[39mwith\u001b[39;00m \u001b[39mopen\u001b[39m(\u001b[39m'\u001b[39m\u001b[39m./E_coli.txt\u001b[39m\u001b[39m'\u001b[39m,\u001b[39m'\u001b[39m\u001b[39mr\u001b[39m\u001b[39m'\u001b[39m) \u001b[39mas\u001b[39;00m f:\n\u001b[1;32m      2\u001b[0m     data_genoma \u001b[39m=\u001b[39m f\u001b[39m.\u001b[39mread()\n\u001b[0;32m----> 3\u001b[0m \u001b[39mprint\u001b[39m(SymbolArray(data_genoma,\u001b[39m'\u001b[39;49m\u001b[39mC\u001b[39;49m\u001b[39m'\u001b[39;49m))\n",
      "Cell \u001b[0;32mIn [4], line 6\u001b[0m, in \u001b[0;36mSymbolArray\u001b[0;34m(Genome, symbol)\u001b[0m\n\u001b[1;32m      4\u001b[0m ExtendedGenome \u001b[39m=\u001b[39m Genome \u001b[39m+\u001b[39m Genome[\u001b[39m0\u001b[39m:n\u001b[39m/\u001b[39m\u001b[39m/\u001b[39m\u001b[39m2\u001b[39m]\n\u001b[1;32m      5\u001b[0m \u001b[39mfor\u001b[39;00m i \u001b[39min\u001b[39;00m \u001b[39mrange\u001b[39m(n):\n\u001b[0;32m----> 6\u001b[0m     array[i] \u001b[39m=\u001b[39m PatternCount(ExtendedGenome[i:i\u001b[39m+\u001b[39;49m(n\u001b[39m/\u001b[39;49m\u001b[39m/\u001b[39;49m\u001b[39m2\u001b[39;49m)],symbol)\n\u001b[1;32m      7\u001b[0m \u001b[39mreturn\u001b[39;00m array\n",
      "Cell \u001b[0;32mIn [5], line 4\u001b[0m, in \u001b[0;36mPatternCount\u001b[0;34m(Text, Pattern)\u001b[0m\n\u001b[1;32m      2\u001b[0m count \u001b[39m=\u001b[39m \u001b[39m0\u001b[39m\n\u001b[1;32m      3\u001b[0m \u001b[39mfor\u001b[39;00m i \u001b[39min\u001b[39;00m \u001b[39mrange\u001b[39m(\u001b[39mlen\u001b[39m(Text)\u001b[39m-\u001b[39m\u001b[39mlen\u001b[39m(Pattern)\u001b[39m+\u001b[39m\u001b[39m1\u001b[39m):\n\u001b[0;32m----> 4\u001b[0m     \u001b[39mif\u001b[39;00m Text[i:i\u001b[39m+\u001b[39m\u001b[39mlen\u001b[39;49m(Pattern)] \u001b[39m==\u001b[39m Pattern:\n\u001b[1;32m      5\u001b[0m         count \u001b[39m=\u001b[39m count\u001b[39m+\u001b[39m\u001b[39m1\u001b[39m\n\u001b[1;32m      6\u001b[0m \u001b[39mreturn\u001b[39;00m count\n",
      "\u001b[0;31mKeyboardInterrupt\u001b[0m: "
     ]
    }
   ],
   "source": [
    "with open('./E_coli.txt','r') as f:\n",
    "    data_genoma = f.read()\n",
    "print(SymbolArray(data_genoma,'C'))\n"
   ]
  },
  {
   "cell_type": "markdown",
   "metadata": {},
   "source": [
    "## The third week"
   ]
  }
 ],
 "metadata": {
  "kernelspec": {
   "display_name": "Python 3.8.9 ('venv': venv)",
   "language": "python",
   "name": "python3"
  },
  "language_info": {
   "codemirror_mode": {
    "name": "ipython",
    "version": 3
   },
   "file_extension": ".py",
   "mimetype": "text/x-python",
   "name": "python",
   "nbconvert_exporter": "python",
   "pygments_lexer": "ipython3",
   "version": "3.8.9"
  },
  "orig_nbformat": 4,
  "vscode": {
   "interpreter": {
    "hash": "ad9d5656e36c6288f90f6460b99ddca5e5986e3fb69995ab3e6012748b6d23c8"
   }
  }
 },
 "nbformat": 4,
 "nbformat_minor": 2
}
